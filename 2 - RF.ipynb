{
 "cells": [
  {
   "cell_type": "markdown",
   "metadata": {},
   "source": [
    "# Random Forest\n",
    "\n",
    "1. **Imports necessary libraries**: This includes pandas, numpy, sklearn's RandomizedSearchCV, RandomForestRegressor, and several metrics from sklearn.metrics, as well as sqrt from math.\n",
    "\n",
    "2. **Loads data**: Reads training and testing data from CSV files, dropping the \"date\" column from the feature sets and reshaping the target variables into one-dimensional arrays.\n",
    "\n",
    "3. **Initializes a RandomForestRegressor model**: This model will be used for the subsequent training.\n",
    "\n",
    "4. **Defines parameter distributions for random search**: These parameters include `n_estimators`, `max_depth`, `min_samples_split`, and `min_samples_leaf`.\n",
    "\n",
    "    - `n_estimators`: This parameter defines the number of trees in the forest. The values being considered in the random search are 100, 200, 300, 400, and 500. More trees generally improve the model's performance but also increase computational cost.\n",
    "\n",
    "    - `max_depth`: This parameter specifies the maximum depth of the trees. The values being considered are None (which means nodes are expanded until all leaves are pure or until all leaves contain less than the minimum samples split), 25, 50, 75, and 100. A higher maximum depth can lead to a more complex model, which might result in overfitting.\n",
    "\n",
    "    - `min_samples_split`: This parameter determines the minimum number of samples required to split an internal node. The values being considered are 1, 2, 4, 8, and 16. Higher values prevent a model from learning relations which might be highly specific to the particular sample selected for a tree.\n",
    "\n",
    "    - `min_samples_leaf`: This parameter sets the minimum number of samples required to be at a leaf node. The values being considered are 1, 2, 4, 8, and 16. A smaller leaf makes the model more prone to capturing noise in train data.\n",
    "\n",
    "5. **Performs a RandomizedSearchCV**: This is done to find the best parameters for the RandomForestRegressor model, using negative mean squared error as the scoring metric.\n",
    "\n",
    "6. **Fits the random search model**: The model is trained using the training data.\n",
    "\n",
    "7. **Evaluates the best model**: The best model from the random search is evaluated by making predictions on the test set.\n",
    "\n",
    "8. **Calculates evaluation metrics**: These metrics include mean squared error (MSE), root mean squared error (RMSE), mean absolute error (MAE), and R-squared (R2) score.\n",
    "\n",
    "9. **Prints the evaluation metrics**: The metrics, along with the best parameters found by the random search, are printed out."
   ]
  },
  {
   "cell_type": "code",
   "execution_count": 1,
   "metadata": {},
   "outputs": [
    {
     "name": "stdout",
     "output_type": "stream",
     "text": [
      "Fitting 5 folds for each of 10 candidates, totalling 50 fits\n"
     ]
    },
    {
     "name": "stderr",
     "output_type": "stream",
     "text": [
      "c:\\Users\\Arjun\\Desktop\\Subway Sales Forecasting\\.venv\\Lib\\site-packages\\sklearn\\model_selection\\_validation.py:547: FitFailedWarning: \n",
      "20 fits failed out of a total of 50.\n",
      "The score on these train-test partitions for these parameters will be set to nan.\n",
      "If these failures are not expected, you can try to debug them by setting error_score='raise'.\n",
      "\n",
      "Below are more details about the failures:\n",
      "--------------------------------------------------------------------------------\n",
      "20 fits failed with the following error:\n",
      "Traceback (most recent call last):\n",
      "  File \"c:\\Users\\Arjun\\Desktop\\Subway Sales Forecasting\\.venv\\Lib\\site-packages\\sklearn\\model_selection\\_validation.py\", line 895, in _fit_and_score\n",
      "    estimator.fit(X_train, y_train, **fit_params)\n",
      "  File \"c:\\Users\\Arjun\\Desktop\\Subway Sales Forecasting\\.venv\\Lib\\site-packages\\sklearn\\base.py\", line 1467, in wrapper\n",
      "    estimator._validate_params()\n",
      "  File \"c:\\Users\\Arjun\\Desktop\\Subway Sales Forecasting\\.venv\\Lib\\site-packages\\sklearn\\base.py\", line 666, in _validate_params\n",
      "    validate_parameter_constraints(\n",
      "  File \"c:\\Users\\Arjun\\Desktop\\Subway Sales Forecasting\\.venv\\Lib\\site-packages\\sklearn\\utils\\_param_validation.py\", line 95, in validate_parameter_constraints\n",
      "    raise InvalidParameterError(\n",
      "sklearn.utils._param_validation.InvalidParameterError: The 'min_samples_split' parameter of RandomForestRegressor must be an int in the range [2, inf) or a float in the range (0.0, 1.0]. Got 1 instead.\n",
      "\n",
      "  warnings.warn(some_fits_failed_message, FitFailedWarning)\n",
      "c:\\Users\\Arjun\\Desktop\\Subway Sales Forecasting\\.venv\\Lib\\site-packages\\sklearn\\model_selection\\_search.py:1051: UserWarning: One or more of the test scores are non-finite: [          nan -232.81261236           nan -246.59847158           nan\n",
      " -225.10905494           nan -246.95161813 -264.83710271 -232.6214497 ]\n",
      "  warnings.warn(\n"
     ]
    },
    {
     "name": "stdout",
     "output_type": "stream",
     "text": [
      "Model: RandomForestRegressor\n",
      "- Best Parameters: {'n_estimators': 300, 'min_samples_split': 4, 'min_samples_leaf': 1, 'max_depth': None}\n",
      "- MSE: 240.64202109364464\n",
      "- RMSE: 15.512640687311901\n",
      "- MAE: 5.26923728959828\n",
      "- R2 Score: 0.3532845156705644\n"
     ]
    }
   ],
   "source": [
    "# Import packages\n",
    "import pandas as pd\n",
    "import numpy as np\n",
    "from sklearn.model_selection import RandomizedSearchCV\n",
    "from sklearn.ensemble import RandomForestRegressor\n",
    "from sklearn.metrics import mean_squared_error, mean_absolute_error, r2_score\n",
    "from math import sqrt\n",
    "\n",
    "# Load the split data from csv\n",
    "X_train = pd.read_csv(\"X_train.csv\").drop(columns=[\"date\"])\n",
    "X_test = pd.read_csv(\"X_test.csv\").drop(columns=[\"date\"])\n",
    "y_train = np.ravel(pd.read_csv(\"y_train.csv\"))\n",
    "y_test = np.ravel(pd.read_csv(\"y_test.csv\"))\n",
    "\n",
    "# Initialize the model\n",
    "model = RandomForestRegressor()\n",
    "\n",
    "# Define parameter distributions for random search\n",
    "param_dist = {\n",
    "    \"n_estimators\": [100, 200, 300, 400, 500],\n",
    "    \"max_depth\": [None, 25, 50, 75, 100],\n",
    "    \"min_samples_split\": [1, 2, 4, 8, 16],\n",
    "    \"min_samples_leaf\": [1, 2, 4, 8, 16]\n",
    "}\n",
    "\n",
    "# Use RandomizedSearchCV to find the best parameters\n",
    "random_search = RandomizedSearchCV(\n",
    "    model,\n",
    "    param_distributions=param_dist,\n",
    "    n_iter=10,\n",
    "    scoring=\"neg_mean_squared_error\",\n",
    "    cv=5,\n",
    "    verbose=1,\n",
    "    # n_jobs=-1,\n",
    "    random_state=30,\n",
    ")\n",
    "\n",
    "# Fit the random search\n",
    "random_search.fit(X_train, y_train)\n",
    "\n",
    "# Evaluate the best model\n",
    "best_model = random_search.best_estimator_\n",
    "\n",
    "# Make predictions on the test set\n",
    "predictions = best_model.predict(X_test)\n",
    "\n",
    "# Calculate the evaluation metrics\n",
    "mse = mean_squared_error(y_test, predictions)\n",
    "rmse = sqrt(mse)\n",
    "mae = mean_absolute_error(y_test, predictions)\n",
    "r2 = r2_score(y_test, predictions)\n",
    "\n",
    "# Print the evaluation metrics\n",
    "print(f\"Model: {model.__class__.__name__}\")\n",
    "print(f\"- Best Parameters: {random_search.best_params_}\")\n",
    "print(f\"- MSE: {mse}\")\n",
    "print(f\"- RMSE: {rmse}\")\n",
    "print(f\"- MAE: {mae}\")\n",
    "print(f\"- R2 Score: {r2}\")"
   ]
  }
 ],
 "metadata": {
  "kernelspec": {
   "display_name": ".venv",
   "language": "python",
   "name": "python3"
  },
  "language_info": {
   "codemirror_mode": {
    "name": "ipython",
    "version": 3
   },
   "file_extension": ".py",
   "mimetype": "text/x-python",
   "name": "python",
   "nbconvert_exporter": "python",
   "pygments_lexer": "ipython3",
   "version": "3.11.8"
  }
 },
 "nbformat": 4,
 "nbformat_minor": 2
}
